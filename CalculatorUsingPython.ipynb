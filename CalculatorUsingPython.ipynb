{
 "cells": [
  {
   "cell_type": "code",
   "execution_count": 65,
   "id": "3af23bd7-2fed-4c71-b441-1c01eadce213",
   "metadata": {},
   "outputs": [
    {
     "name": "stdout",
     "output_type": "stream",
     "text": [
      "Demo Calculator Using Python\n"
     ]
    },
    {
     "name": "stdin",
     "output_type": "stream",
     "text": [
      "Enter The First Number: 67\n",
      "Enter The Second Number: 98\n",
      "Enter The Third Number: 34\n"
     ]
    },
    {
     "name": "stdout",
     "output_type": "stream",
     "text": [
      "<----------Addition---------->\n",
      "67.0+98.0+34.0)=199.0\n",
      "<----------Substraction---------->\n",
      "67.0-98.0-34.0)=-65.0\n",
      "<----------Multiplication---------->\n",
      "67.0*98.0*34.0)=223244.0\n",
      "<----------Division---------->\n",
      "67.0/98.0/34.0)=0.020\n"
     ]
    }
   ],
   "source": [
    "print(\"Demo Calculator Using Python\")\n",
    "Number1=float(input(\"Enter The First Number:\"))\n",
    "Number2=float(input(\"Enter The Second Number:\"))\n",
    "Number3=float(input(\"Enter The Third Number:\"))\n",
    "print(\"<----------Addition---------->\")\n",
    "print(f\"{Number1}+{Number2}+{Number3})={Number1+Number2+Number3}\")\n",
    "print(\"<----------Substraction---------->\")\n",
    "print(f\"{Number1}-{Number2}-{Number3})={Number1-Number2-Number3}\")\n",
    "print(\"<----------Multiplication---------->\")\n",
    "print(f\"{Number1}*{Number2}*{Number3})={Number1*Number2*Number3}\")\n",
    "print(\"<----------Division---------->\")\n",
    "print(f\"{Number1}/{Number2}/{Number3})={(Number1/Number2/Number3):.3f}\")"
   ]
  },
  {
   "cell_type": "code",
   "execution_count": null,
   "id": "1405db5e-c700-4b28-827e-506d21962341",
   "metadata": {},
   "outputs": [],
   "source": []
  }
 ],
 "metadata": {
  "kernelspec": {
   "display_name": "Python 3 (ipykernel)",
   "language": "python",
   "name": "python3"
  },
  "language_info": {
   "codemirror_mode": {
    "name": "ipython",
    "version": 3
   },
   "file_extension": ".py",
   "mimetype": "text/x-python",
   "name": "python",
   "nbconvert_exporter": "python",
   "pygments_lexer": "ipython3",
   "version": "3.11.7"
  }
 },
 "nbformat": 4,
 "nbformat_minor": 5
}
