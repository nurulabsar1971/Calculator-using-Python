{
 "cells": [
  {
   "cell_type": "code",
   "execution_count": 51,
   "id": "3af23bd7-2fed-4c71-b441-1c01eadce213",
   "metadata": {},
   "outputs": [
    {
     "name": "stdout",
     "output_type": "stream",
     "text": [
      "Demo Calculator Using Python\n"
     ]
    }
   ],
   "source": [
    "print(\"Demo Calculator Using Python\")"
   ]
  },
  {
   "cell_type": "code",
   "execution_count": 53,
   "id": "18fbe6ca-2234-4326-82d6-ec8acd3bea36",
   "metadata": {},
   "outputs": [
    {
     "name": "stdin",
     "output_type": "stream",
     "text": [
      "Enter The First Number: 90\n",
      "Enter The Second Number: 60\n",
      "Enter The Third Number: 30\n"
     ]
    }
   ],
   "source": [
    "Number1=float(input(\"Enter The First Number:\"))\n",
    "Number2=float(input(\"Enter The Second Number:\"))\n",
    "Number3=float(input(\"Enter The Third Number:\"))\n"
   ]
  },
  {
   "cell_type": "code",
   "execution_count": 15,
   "id": "e8087400-e38b-4021-84a0-53a8aed3806a",
   "metadata": {},
   "outputs": [
    {
     "name": "stdout",
     "output_type": "stream",
     "text": [
      "<------------Addition------------>\n"
     ]
    }
   ],
   "source": [
    "print(\"<----------Addition---------->\")"
   ]
  },
  {
   "cell_type": "code",
   "execution_count": 57,
   "id": "0ac28389-2aa0-4153-9235-06e726632565",
   "metadata": {},
   "outputs": [
    {
     "name": "stdout",
     "output_type": "stream",
     "text": [
      "90.0+60.0+30.0)=180.0\n"
     ]
    }
   ],
   "source": [
    "print(f\"{Number1}+{Number2}+{Number3})={Number1+Number2+Number3}\")\n"
   ]
  },
  {
   "cell_type": "code",
   "execution_count": 19,
   "id": "5b9cc35a-9e51-4f91-98b7-b18a2cf93c8c",
   "metadata": {},
   "outputs": [
    {
     "name": "stdout",
     "output_type": "stream",
     "text": [
      "<----------Substraction---------->\n"
     ]
    }
   ],
   "source": [
    "print(\"<----------Substraction---------->\")"
   ]
  },
  {
   "cell_type": "code",
   "execution_count": 59,
   "id": "79d122d5-4586-4346-bf9c-72ccc8bd16ae",
   "metadata": {},
   "outputs": [
    {
     "name": "stdout",
     "output_type": "stream",
     "text": [
      "90.0-60.0-30.0)=0.0\n"
     ]
    }
   ],
   "source": [
    "print(f\"{Number1}-{Number2}-{Number3})={Number1-Number2-Number3}\")"
   ]
  },
  {
   "cell_type": "code",
   "execution_count": 23,
   "id": "981e9012-ba47-4bf5-8af6-5936eda4781d",
   "metadata": {},
   "outputs": [
    {
     "name": "stdout",
     "output_type": "stream",
     "text": [
      "<----------Multiplication---------->\n"
     ]
    }
   ],
   "source": [
    "print(\"<----------Multiplication---------->\")"
   ]
  },
  {
   "cell_type": "code",
   "execution_count": 61,
   "id": "8642a636-0686-45dd-8728-117fb1c34866",
   "metadata": {},
   "outputs": [
    {
     "name": "stdout",
     "output_type": "stream",
     "text": [
      "90.0*60.0*30.0)=162000.0\n"
     ]
    }
   ],
   "source": [
    "print(f\"{Number1}*{Number2}*{Number3})={Number1*Number2*Number3}\")"
   ]
  },
  {
   "cell_type": "code",
   "execution_count": 27,
   "id": "2685ae0b-f5e9-41ee-b1aa-f8137c774ca7",
   "metadata": {},
   "outputs": [
    {
     "name": "stdout",
     "output_type": "stream",
     "text": [
      "<----------Division---------->\n"
     ]
    }
   ],
   "source": [
    "print(\"<----------Division---------->\")"
   ]
  },
  {
   "cell_type": "code",
   "execution_count": 63,
   "id": "0d52d4e0-a50a-4599-99c5-f12e3104cdbe",
   "metadata": {},
   "outputs": [
    {
     "name": "stdout",
     "output_type": "stream",
     "text": [
      "90.0/60.0/30.0)=0.050\n"
     ]
    }
   ],
   "source": [
    "print(f\"{Number1}/{Number2}/{Number3})={(Number1/Number2/Number3):.3f}\")"
   ]
  },
  {
   "cell_type": "code",
   "execution_count": null,
   "id": "02efb79d-89e7-4c55-b694-57dadb331a15",
   "metadata": {},
   "outputs": [],
   "source": []
  }
 ],
 "metadata": {
  "kernelspec": {
   "display_name": "Python 3 (ipykernel)",
   "language": "python",
   "name": "python3"
  },
  "language_info": {
   "codemirror_mode": {
    "name": "ipython",
    "version": 3
   },
   "file_extension": ".py",
   "mimetype": "text/x-python",
   "name": "python",
   "nbconvert_exporter": "python",
   "pygments_lexer": "ipython3",
   "version": "3.11.7"
  }
 },
 "nbformat": 4,
 "nbformat_minor": 5
}
