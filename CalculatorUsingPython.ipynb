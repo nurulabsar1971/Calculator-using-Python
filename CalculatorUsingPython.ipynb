{
 "cells": [
  {
   "cell_type": "code",
   "execution_count": 15,
   "id": "3af23bd7-2fed-4c71-b441-1c01eadce213",
   "metadata": {},
   "outputs": [
    {
     "name": "stdout",
     "output_type": "stream",
     "text": [
      "Demo Calculator Using Python\n"
     ]
    },
    {
     "name": "stdin",
     "output_type": "stream",
     "text": [
      "Enter The First Number: 900\n",
      "Enter The Second Number: 600\n",
      "Enter The Third Number: 200\n"
     ]
    },
    {
     "name": "stdout",
     "output_type": "stream",
     "text": [
      "\n",
      "\n",
      "\n",
      "<----------Addition---------->\n",
      "\n",
      "900.0+600.0+200.0)=1700.0\n",
      "\n",
      "\n",
      "<----------Substraction---------->\n",
      "\n",
      "900.0-600.0-200.0)=100.0\n",
      "\n",
      "\n",
      "<----------Multiplication---------->\n",
      "\n",
      "900.0*600.0*200.0)=108000000.0\n",
      "\n",
      "\n",
      "<----------Division---------->\n",
      "\n",
      "900.0/600.0/200.0)=0.007\n",
      "\n",
      "\n"
     ]
    }
   ],
   "source": [
    "print(\"Demo Calculator Using Python\")\n",
    "\n",
    "\n",
    "\n",
    "Number1=float(input(\"Enter The First Number:\"))\n",
    "Number2=float(input(\"Enter The Second Number:\"))\n",
    "Number3=float(input(\"Enter The Third Number:\"))\n",
    "\n",
    "print(\"\\n\\n\")\n",
    "\n",
    "print(\"<----------Addition---------->\\n\")\n",
    "print(f\"{Number1}+{Number2}+{Number3})={Number1+Number2+Number3}\\n\\n\")\n",
    "\n",
    "\n",
    "print(\"<----------Substraction---------->\\n\")\n",
    "print(f\"{Number1}-{Number2}-{Number3})={Number1-Number2-Number3}\\n\\n\")\n",
    "\n",
    "\n",
    "print(\"<----------Multiplication---------->\\n\")\n",
    "print(f\"{Number1}*{Number2}*{Number3})={Number1*Number2*Number3}\\n\\n\")\n",
    "\n",
    "\n",
    "print(\"<----------Division---------->\\n\")\n",
    "print(f\"{Number1}/{Number2}/{Number3})={(Number1/Number2/Number3):.3f}\\n\\n\")"
   ]
  },
  {
   "cell_type": "code",
   "execution_count": null,
   "id": "1405db5e-c700-4b28-827e-506d21962341",
   "metadata": {},
   "outputs": [],
   "source": []
  }
 ],
 "metadata": {
  "kernelspec": {
   "display_name": "Python 3 (ipykernel)",
   "language": "python",
   "name": "python3"
  },
  "language_info": {
   "codemirror_mode": {
    "name": "ipython",
    "version": 3
   },
   "file_extension": ".py",
   "mimetype": "text/x-python",
   "name": "python",
   "nbconvert_exporter": "python",
   "pygments_lexer": "ipython3",
   "version": "3.11.7"
  }
 },
 "nbformat": 4,
 "nbformat_minor": 5
}
